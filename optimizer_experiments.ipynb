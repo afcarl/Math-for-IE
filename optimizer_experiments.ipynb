{
 "cells": [
  {
   "cell_type": "code",
   "execution_count": 1,
   "metadata": {},
   "outputs": [],
   "source": [
    "import torch\n",
    "import torch.nn as nn\n",
    "import torch.nn.functional as F\n",
    "import torch.optim as optim\n",
    "from torch.utils.data import DataLoader\n",
    "from torchvision import datasets, transforms\n",
    "from torch.autograd import Variable\n",
    "\n",
    "import math\n",
    "import pprint\n",
    "from functools import partial\n",
    "import numpy as np\n",
    "import argparse\n",
    "import visdom\n",
    "from tqdm import tqdm_notebook"
   ]
  },
  {
   "cell_type": "markdown",
   "metadata": {},
   "source": [
    "# Custom Optimizers"
   ]
  },
  {
   "cell_type": "markdown",
   "metadata": {},
   "source": [
    "## SGD"
   ]
  },
  {
   "cell_type": "code",
   "execution_count": 2,
   "metadata": {},
   "outputs": [],
   "source": [
    "class CustomSGD(optim.Optimizer):\n",
    "    def __init__(self, params, lr):\n",
    "        defaults = dict(lr=lr)\n",
    "        super(CustomSGD, self).__init__(params, defaults)\n",
    "                    \n",
    "    def step(self):\n",
    "        for group in self.param_groups:\n",
    "            for p in group['params']:\n",
    "                if p.grad is None:\n",
    "                    continue\n",
    "                d_p = p.grad.data\n",
    "                \n",
    "                # Update Parameters\n",
    "                p.data.add_(-group['lr'], d_p)\n",
    "        return"
   ]
  },
  {
   "cell_type": "markdown",
   "metadata": {},
   "source": [
    "## Momentum"
   ]
  },
  {
   "cell_type": "code",
   "execution_count": 3,
   "metadata": {},
   "outputs": [],
   "source": [
    "class CustomMomentum(optim.Optimizer):\n",
    "    def __init__(self, params, lr, momentum=0.5):\n",
    "        defaults = dict(lr=lr, momentum=momentum)\n",
    "        super(CustomMomentum, self).__init__(params, defaults)\n",
    "                    \n",
    "    def step(self):\n",
    "        for group in self.param_groups:\n",
    "            momentum = group['momentum']\n",
    "            \n",
    "            for p in group['params']:\n",
    "                if p.grad is None:\n",
    "                    continue\n",
    "                d_p = p.grad.data\n",
    "                \n",
    "                # Apply momentum\n",
    "                param_state = self.state[p]\n",
    "                if 'momentum_buffer' not in param_state:\n",
    "                    buf = param_state['momentum_buffer'] = torch.zeros_like(p.data)\n",
    "                    buf.mul_(momentum).add_(d_p)\n",
    "                else:\n",
    "                    buf = param_state['momentum_buffer']\n",
    "                    buf.mul_(momentum).add_(1, d_p)\n",
    "                d_p = buf\n",
    "                # Update Parameters\n",
    "                p.data.add_(-group['lr'], d_p)\n",
    "        return"
   ]
  },
  {
   "cell_type": "markdown",
   "metadata": {},
   "source": [
    "## Adam"
   ]
  },
  {
   "cell_type": "code",
   "execution_count": 4,
   "metadata": {},
   "outputs": [],
   "source": [
    "class CustomAdam(optim.Optimizer):\n",
    "    def __init__(self, params, lr, betas=(0.9, 0.999), eps=1e-8):\n",
    "        defaults = dict(lr=lr, betas=betas, eps=eps)\n",
    "        super(CustomAdam, self).__init__(params, defaults)\n",
    "                    \n",
    "    def step(self):\n",
    "        for group in self.param_groups:\n",
    "            for p in group['params']:\n",
    "                if p.grad is None:\n",
    "                    continue\n",
    "                grad = p.grad.data\n",
    "\n",
    "                state = self.state[p]\n",
    "\n",
    "                # State initialization\n",
    "                if len(state) == 0:\n",
    "                    state['step'] = 0\n",
    "                    # Exponential moving average of gradient values\n",
    "                    state['exp_avg'] = torch.zeros_like(p.data)\n",
    "                    # Exponential moving average of squared gradient values\n",
    "                    state['exp_avg_sq'] = torch.zeros_like(p.data)\n",
    "\n",
    "                exp_avg, exp_avg_sq = state['exp_avg'], state['exp_avg_sq']\n",
    "                beta1, beta2 = group['betas']\n",
    "\n",
    "                state['step'] += 1\n",
    "\n",
    "                # Decay the first and second moment running average coefficient\n",
    "                exp_avg.mul_(beta1).add_(1 - beta1, grad)\n",
    "                exp_avg_sq.mul_(beta2).addcmul_(1 - beta2, grad, grad)\n",
    "\n",
    "                denom = exp_avg_sq.sqrt().add_(group['eps'])\n",
    "\n",
    "                bias_correction1 = 1 - beta1 ** state['step']\n",
    "                bias_correction2 = 1 - beta2 ** state['step']\n",
    "                step_size = group['lr'] * math.sqrt(bias_correction2) / bias_correction1\n",
    "\n",
    "                p.data.addcdiv_(-step_size, exp_avg, denom)\n",
    "        return"
   ]
  },
  {
   "cell_type": "markdown",
   "metadata": {},
   "source": [
    "# Configurations"
   ]
  },
  {
   "cell_type": "code",
   "execution_count": 5,
   "metadata": {},
   "outputs": [],
   "source": [
    "def parse_config(parse=True, **optional_kwargs):\n",
    "    parser = argparse.ArgumentParser(description='Custom Optimizer Experiments')\n",
    "    parser.add_argument('--batch-size', type=int, default=100, metavar='N',\n",
    "                        help='input batch size for training (default: 100)')\n",
    "    parser.add_argument('--test-batch-size', type=int, default=1000, metavar='N',\n",
    "                        help='input batch size for testing (default: 1000)')\n",
    "    parser.add_argument('--epochs', type=int, default=10, metavar='N',\n",
    "                        help='number of epochs to train (default: 10)')\n",
    "    parser.add_argument('--optimizer', type=str, default='sgd', metavar='OPTIM',\n",
    "                        help='which optimizer to use (default: SGD)')\n",
    "    parser.add_argument('--dataset', type=str, default='mnist', metavar='M',\n",
    "                        help='which dataset to evaluate (default: MNIST)')\n",
    "    parser.add_argument('--lr', type=float, default=0.01, metavar='LR',\n",
    "                        help='learning rate (default: 0.01)')\n",
    "    parser.add_argument('--seed', type=int, default=1, metavar='S',\n",
    "                        help='random seed (default: 1)')\n",
    "\n",
    "    if parse:\n",
    "        args = parser.parse_args()\n",
    "    else:\n",
    "        args = parser.parse_known_args()[0]\n",
    "        \n",
    "    # Namespace => Dictionary\n",
    "    kwargs = vars(args)\n",
    "    kwargs.update(optional_kwargs)\n",
    "\n",
    "    config = Config(**kwargs)\n",
    "    print(config)\n",
    "    return config\n",
    "\n",
    "class Config(object):\n",
    "    def __init__(self, **kwargs):\n",
    "        \"\"\"Configuration Class: set kwargs as class attributes with setattr\"\"\"\n",
    "        for k, v in kwargs.items():\n",
    "            if k == 'optimizer':\n",
    "                setattr(self, 'optimizer', self.set_optimizer(v))\n",
    "            else:\n",
    "                setattr(self, k, v)\n",
    "\n",
    "    def set_optimizer(self, optim_key='sgd'):\n",
    "        optim_key = optim_key.lower()\n",
    "        optim_dict = {\n",
    "            'sgd': optim.SGD,\n",
    "            'momentum': partial(optim.SGD, momentum=0.5),\n",
    "            'adam': optim.Adam,\n",
    "            'custom_sgd': CustomSGD,\n",
    "            'custom_momentum': CustomMomentum,\n",
    "            'custom_adam': CustomAdam\n",
    "        }\n",
    "        return optim_dict[optim_key]\n",
    "\n",
    "    def __repr__(self):\n",
    "        \"\"\"Pretty-print configurations in alphabetical order\"\"\"\n",
    "        config_str = 'Configurations\\n'\n",
    "        config_str += pprint.pformat(self.__dict__)\n",
    "        return config_str"
   ]
  },
  {
   "cell_type": "code",
   "execution_count": 6,
   "metadata": {},
   "outputs": [
    {
     "name": "stdout",
     "output_type": "stream",
     "text": [
      "Configurations\n",
      "{'batch_size': 100,\n",
      " 'dataset': 'mnist',\n",
      " 'epochs': 10,\n",
      " 'lr': 0.01,\n",
      " 'optimizer': <class 'torch.optim.sgd.SGD'>,\n",
      " 'seed': 1,\n",
      " 'test_batch_size': 1000}\n"
     ]
    },
    {
     "data": {
      "text/plain": [
       "Configurations\n",
       "{'batch_size': 100,\n",
       " 'dataset': 'mnist',\n",
       " 'epochs': 10,\n",
       " 'lr': 0.01,\n",
       " 'optimizer': <class 'torch.optim.sgd.SGD'>,\n",
       " 'seed': 1,\n",
       " 'test_batch_size': 1000}"
      ]
     },
     "execution_count": 6,
     "metadata": {},
     "output_type": "execute_result"
    }
   ],
   "source": [
    "config = parse_config(False)\n",
    "config"
   ]
  },
  {
   "cell_type": "markdown",
   "metadata": {},
   "source": [
    "# Data Loader"
   ]
  },
  {
   "cell_type": "code",
   "execution_count": 7,
   "metadata": {},
   "outputs": [],
   "source": [
    "def get_loader(config):\n",
    "    \n",
    "    # 1*28*28\n",
    "    if config.dataset.lower() == 'mnist':\n",
    "        \n",
    "        transform = transforms.Compose([\n",
    "            transforms.ToTensor(),\n",
    "            transforms.Normalize(mean=[0.1307], std=[0.3081])])\n",
    "        \n",
    "        train_loader = DataLoader(\n",
    "            datasets.MNIST('./data', train=True, download=True, transform=transform),\n",
    "            batch_size=config.batch_size, shuffle=True, num_workers=1, pin_memory=True)\n",
    "        test_loader = DataLoader(\n",
    "            datasets.MNIST('./data', train=False, transform=transform),\n",
    "            batch_size=config.test_batch_size, shuffle=False, num_workers=1, pin_memory=True)\n",
    "        \n",
    "    # 3*32*32\n",
    "    elif config.dataset.lower() == 'cifar10':\n",
    "        \n",
    "        transform = transforms.Compose([\n",
    "            transforms.ToTensor(),\n",
    "            transforms.Normalize(mean=[0.485, 0.456, 0.406], std=[0.229, 0.224, 0.225])])\n",
    "\n",
    "        train_loader = DataLoader(\n",
    "            datasets.CIFAR10('./data', train=True, download=True, transform=transform),\n",
    "            batch_size=config.batch_size, shuffle=True, num_workers=1, pin_memory=True)\n",
    "        test_loader = DataLoader(\n",
    "            datasets.CIFAR10('./data', train=False, transform=transform),\n",
    "            batch_size=config.test_batch_size, shuffle=False, num_workers=1, pin_memory=True)\n",
    "\n",
    "    return train_loader, test_loader"
   ]
  },
  {
   "cell_type": "markdown",
   "metadata": {},
   "source": [
    "# Networks"
   ]
  },
  {
   "cell_type": "code",
   "execution_count": 8,
   "metadata": {},
   "outputs": [],
   "source": [
    "class MNIST_Net(nn.Module):\n",
    "    def __init__(self):\n",
    "        super(MNIST_Net, self).__init__()\n",
    "        self.conv1 = nn.Conv2d(1, 10, kernel_size=5)\n",
    "        self.conv2 = nn.Conv2d(10, 20, kernel_size=5)\n",
    "        self.conv2_drop = nn.Dropout2d()\n",
    "        self.fc1 = nn.Linear(320, 50)\n",
    "        self.fc2 = nn.Linear(50, 10)\n",
    "\n",
    "    def forward(self, x):\n",
    "        x = F.relu(F.max_pool2d(self.conv1(x), 2))\n",
    "        x = F.relu(F.max_pool2d(self.conv2_drop(self.conv2(x)), 2))\n",
    "        x = x.view(-1, 320)\n",
    "        x = F.relu(self.fc1(x))\n",
    "        x = F.dropout(x, training=self.training)\n",
    "        x = self.fc2(x)\n",
    "        return F.log_softmax(x, dim=1)"
   ]
  },
  {
   "cell_type": "code",
   "execution_count": 9,
   "metadata": {},
   "outputs": [],
   "source": [
    "class CIFAR_Net(nn.Module):\n",
    "    def __init__(self):\n",
    "        super(CIFAR_Net, self).__init__()\n",
    "        self.conv1 = nn.Conv2d(3, 6, 5)\n",
    "        self.pool = nn.MaxPool2d(2, 2)\n",
    "        self.conv2 = nn.Conv2d(6, 16, 5)\n",
    "        self.fc1 = nn.Linear(16 * 5 * 5, 120)\n",
    "        self.fc2 = nn.Linear(120, 84)\n",
    "        self.fc3 = nn.Linear(84, 10)\n",
    "\n",
    "    def forward(self, x):\n",
    "        x = self.pool(F.relu(self.conv1(x)))\n",
    "        x = self.pool(F.relu(self.conv2(x)))\n",
    "        x = x.view(-1, 16 * 5 * 5)\n",
    "        x = F.relu(self.fc1(x))\n",
    "        x = F.relu(self.fc2(x))\n",
    "        x = self.fc3(x)\n",
    "        return F.log_softmax(x, dim=1)"
   ]
  },
  {
   "cell_type": "code",
   "execution_count": 10,
   "metadata": {},
   "outputs": [],
   "source": [
    "def get_networks(dataset):\n",
    "    if dataset == 'mnist':\n",
    "        return MNIST_Net\n",
    "    elif dataset == 'cifar10':\n",
    "        return CIFAR_Net"
   ]
  },
  {
   "cell_type": "markdown",
   "metadata": {},
   "source": [
    "# Train / Test"
   ]
  },
  {
   "cell_type": "code",
   "execution_count": 11,
   "metadata": {},
   "outputs": [],
   "source": [
    "def train(config, model, optimizer, train_loader):\n",
    "    model.train()\n",
    "    for batch_idx, (data, target) in enumerate(train_loader):\n",
    "        data, target = data.cuda(), target.cuda()\n",
    "        data, target = Variable(data), Variable(target)\n",
    "\n",
    "        output = model(data)\n",
    "\n",
    "        optimizer.zero_grad()\n",
    "        loss = F.nll_loss(output, target)\n",
    "        loss.backward()\n",
    "        optimizer.step()\n",
    "\n",
    "def test(config, model, test_loader):\n",
    "    \n",
    "    model.eval()\n",
    "    test_loss = 0\n",
    "    correct = 0\n",
    "    for data, target in test_loader:\n",
    "        data, target = data.cuda(), target.cuda()\n",
    "        data, target = Variable(data, volatile=True), Variable(target)\n",
    "        \n",
    "        output = model(data)\n",
    "        \n",
    "        test_loss += F.nll_loss(output, target, size_average=False).data[0] # sum up batch loss\n",
    "        \n",
    "        pred = output.data.max(1, keepdim=True)[1] # get the index of the max log-probability\n",
    "        correct += pred.eq(target.data.view_as(pred)).cpu().sum()\n",
    "\n",
    "    test_loss /= len(test_loader.dataset)\n",
    "    accuracy = 100. * correct / len(test_loader.dataset)\n",
    "    \n",
    "    return test_loss, accuracy"
   ]
  },
  {
   "cell_type": "markdown",
   "metadata": {},
   "source": [
    "# Run"
   ]
  },
  {
   "cell_type": "code",
   "execution_count": 12,
   "metadata": {},
   "outputs": [],
   "source": [
    "def main(dataset='mnist'):\n",
    "    vis_engine = visdom.Visdom(env='optimizers')\n",
    "    initial_plot = True\n",
    "    \n",
    "    for optimizer_name in ['SGD', 'Momentum', 'Adam', 'Custom_SGD', 'Custom_Momentum', 'Custom_Adam']:\n",
    "        config = parse_config(False, optimizer=optimizer_name.lower(), dataset=dataset)\n",
    "\n",
    "        # Random number generator\n",
    "        torch.cuda.manual_seed(config.seed)\n",
    "\n",
    "        # Build model\n",
    "        model = get_networks(dataset)().cuda()\n",
    "\n",
    "        # Build dataset\n",
    "        train_loader, test_loader = get_loader(config)\n",
    "\n",
    "        # Build Optimizer\n",
    "        optimizer = config.optimizer(model.parameters(), lr=config.lr)\n",
    "\n",
    "        # Train & Test & Plot\n",
    "        for epoch in tqdm_notebook(range(1, config.epochs + 1), desc='Epoch'):\n",
    "            train(config, model, optimizer, train_loader)\n",
    "            test_loss, accuracy = test(config, model, test_loader)\n",
    "\n",
    "            if initial_plot:\n",
    "                loss_window = vis_engine.line(\n",
    "                    X=np.array([epoch]),\n",
    "                    Y=np.array([test_loss]),\n",
    "                    opts=dict(\n",
    "                        title=config.dataset.upper(),\n",
    "                        xlabel='Epoch',\n",
    "                        ylabel='Test Loss',\n",
    "                        legend=[optimizer_name]))\n",
    "                \n",
    "                accuracy_window = vis_engine.line(\n",
    "                    X=np.array([epoch]),\n",
    "                    Y=np.array([accuracy]),\n",
    "                    opts=dict(\n",
    "                        title=config.dataset.upper(),\n",
    "                        xlabel='Epoch',\n",
    "                        ylabel='Accuracy (%)',\n",
    "                        legend=[optimizer_name]))\n",
    "                        \n",
    "                initial_plot = False\n",
    "\n",
    "            else:\n",
    "                vis_engine.updateTrace(\n",
    "                    X=np.array([epoch]),\n",
    "                Y=np.array([test_loss]),\n",
    "                win=loss_window,\n",
    "                name=optimizer_name)\n",
    "                \n",
    "                vis_engine.updateTrace(\n",
    "                    X=np.array([epoch]),\n",
    "                Y=np.array([accuracy]),\n",
    "                win=accuracy_window,\n",
    "                name=optimizer_name)"
   ]
  },
  {
   "cell_type": "code",
   "execution_count": 13,
   "metadata": {
    "scrolled": true
   },
   "outputs": [
    {
     "name": "stdout",
     "output_type": "stream",
     "text": [
      "Configurations\n",
      "{'batch_size': 100,\n",
      " 'dataset': 'mnist',\n",
      " 'epochs': 10,\n",
      " 'lr': 0.01,\n",
      " 'optimizer': <class 'torch.optim.sgd.SGD'>,\n",
      " 'seed': 1,\n",
      " 'test_batch_size': 1000}\n"
     ]
    },
    {
     "data": {
      "application/vnd.jupyter.widget-view+json": {
       "model_id": "5a48395d4e3c4e28b7bda5e569ac24a7",
       "version_major": 2,
       "version_minor": 0
      },
      "text/html": [
       "<p>Failed to display Jupyter Widget of type <code>HBox</code>.</p>\n",
       "<p>\n",
       "  If you're reading this message in Jupyter Notebook or JupyterLab, it may mean\n",
       "  that the widgets JavaScript is still loading. If this message persists, it\n",
       "  likely means that the widgets JavaScript library is either not installed or\n",
       "  not enabled. See the <a href=\"https://ipywidgets.readthedocs.io/en/stable/user_install.html\">Jupyter\n",
       "  Widgets Documentation</a> for setup instructions.\n",
       "</p>\n",
       "<p>\n",
       "  If you're reading this message in another notebook frontend (for example, a static\n",
       "  rendering on GitHub or <a href=\"https://nbviewer.jupyter.org/\">NBViewer</a>),\n",
       "  it may mean that your frontend doesn't currently support widgets.\n",
       "</p>\n"
      ],
      "text/plain": [
       "HBox(children=(IntProgress(value=0, description='Epoch', max=10), HTML(value='')))"
      ]
     },
     "metadata": {},
     "output_type": "display_data"
    },
    {
     "name": "stdout",
     "output_type": "stream",
     "text": [
      "\n",
      "Configurations\n",
      "{'batch_size': 100,\n",
      " 'dataset': 'mnist',\n",
      " 'epochs': 10,\n",
      " 'lr': 0.01,\n",
      " 'optimizer': functools.partial(<class 'torch.optim.sgd.SGD'>, momentum=0.5),\n",
      " 'seed': 1,\n",
      " 'test_batch_size': 1000}\n"
     ]
    },
    {
     "data": {
      "application/vnd.jupyter.widget-view+json": {
       "model_id": "5ab604b096d44c01a46dce9ed350291d",
       "version_major": 2,
       "version_minor": 0
      },
      "text/html": [
       "<p>Failed to display Jupyter Widget of type <code>HBox</code>.</p>\n",
       "<p>\n",
       "  If you're reading this message in Jupyter Notebook or JupyterLab, it may mean\n",
       "  that the widgets JavaScript is still loading. If this message persists, it\n",
       "  likely means that the widgets JavaScript library is either not installed or\n",
       "  not enabled. See the <a href=\"https://ipywidgets.readthedocs.io/en/stable/user_install.html\">Jupyter\n",
       "  Widgets Documentation</a> for setup instructions.\n",
       "</p>\n",
       "<p>\n",
       "  If you're reading this message in another notebook frontend (for example, a static\n",
       "  rendering on GitHub or <a href=\"https://nbviewer.jupyter.org/\">NBViewer</a>),\n",
       "  it may mean that your frontend doesn't currently support widgets.\n",
       "</p>\n"
      ],
      "text/plain": [
       "HBox(children=(IntProgress(value=0, description='Epoch', max=10), HTML(value='')))"
      ]
     },
     "metadata": {},
     "output_type": "display_data"
    },
    {
     "name": "stdout",
     "output_type": "stream",
     "text": [
      "\n",
      "Configurations\n",
      "{'batch_size': 100,\n",
      " 'dataset': 'mnist',\n",
      " 'epochs': 10,\n",
      " 'lr': 0.01,\n",
      " 'optimizer': <class 'torch.optim.adam.Adam'>,\n",
      " 'seed': 1,\n",
      " 'test_batch_size': 1000}\n"
     ]
    },
    {
     "data": {
      "application/vnd.jupyter.widget-view+json": {
       "model_id": "7c47c10adcfb4e86ac60c5003f412d75",
       "version_major": 2,
       "version_minor": 0
      },
      "text/html": [
       "<p>Failed to display Jupyter Widget of type <code>HBox</code>.</p>\n",
       "<p>\n",
       "  If you're reading this message in Jupyter Notebook or JupyterLab, it may mean\n",
       "  that the widgets JavaScript is still loading. If this message persists, it\n",
       "  likely means that the widgets JavaScript library is either not installed or\n",
       "  not enabled. See the <a href=\"https://ipywidgets.readthedocs.io/en/stable/user_install.html\">Jupyter\n",
       "  Widgets Documentation</a> for setup instructions.\n",
       "</p>\n",
       "<p>\n",
       "  If you're reading this message in another notebook frontend (for example, a static\n",
       "  rendering on GitHub or <a href=\"https://nbviewer.jupyter.org/\">NBViewer</a>),\n",
       "  it may mean that your frontend doesn't currently support widgets.\n",
       "</p>\n"
      ],
      "text/plain": [
       "HBox(children=(IntProgress(value=0, description='Epoch', max=10), HTML(value='')))"
      ]
     },
     "metadata": {},
     "output_type": "display_data"
    },
    {
     "name": "stdout",
     "output_type": "stream",
     "text": [
      "\n",
      "Configurations\n",
      "{'batch_size': 100,\n",
      " 'dataset': 'mnist',\n",
      " 'epochs': 10,\n",
      " 'lr': 0.01,\n",
      " 'optimizer': <class '__main__.CustomSGD'>,\n",
      " 'seed': 1,\n",
      " 'test_batch_size': 1000}\n"
     ]
    },
    {
     "data": {
      "application/vnd.jupyter.widget-view+json": {
       "model_id": "f85c904206b54a17a0573861e45498ba",
       "version_major": 2,
       "version_minor": 0
      },
      "text/html": [
       "<p>Failed to display Jupyter Widget of type <code>HBox</code>.</p>\n",
       "<p>\n",
       "  If you're reading this message in Jupyter Notebook or JupyterLab, it may mean\n",
       "  that the widgets JavaScript is still loading. If this message persists, it\n",
       "  likely means that the widgets JavaScript library is either not installed or\n",
       "  not enabled. See the <a href=\"https://ipywidgets.readthedocs.io/en/stable/user_install.html\">Jupyter\n",
       "  Widgets Documentation</a> for setup instructions.\n",
       "</p>\n",
       "<p>\n",
       "  If you're reading this message in another notebook frontend (for example, a static\n",
       "  rendering on GitHub or <a href=\"https://nbviewer.jupyter.org/\">NBViewer</a>),\n",
       "  it may mean that your frontend doesn't currently support widgets.\n",
       "</p>\n"
      ],
      "text/plain": [
       "HBox(children=(IntProgress(value=0, description='Epoch', max=10), HTML(value='')))"
      ]
     },
     "metadata": {},
     "output_type": "display_data"
    },
    {
     "name": "stdout",
     "output_type": "stream",
     "text": [
      "\n",
      "Configurations\n",
      "{'batch_size': 100,\n",
      " 'dataset': 'mnist',\n",
      " 'epochs': 10,\n",
      " 'lr': 0.01,\n",
      " 'optimizer': <class '__main__.CustomMomentum'>,\n",
      " 'seed': 1,\n",
      " 'test_batch_size': 1000}\n"
     ]
    },
    {
     "data": {
      "application/vnd.jupyter.widget-view+json": {
       "model_id": "1e134743c1ec4610a0d2811d28a764aa",
       "version_major": 2,
       "version_minor": 0
      },
      "text/html": [
       "<p>Failed to display Jupyter Widget of type <code>HBox</code>.</p>\n",
       "<p>\n",
       "  If you're reading this message in Jupyter Notebook or JupyterLab, it may mean\n",
       "  that the widgets JavaScript is still loading. If this message persists, it\n",
       "  likely means that the widgets JavaScript library is either not installed or\n",
       "  not enabled. See the <a href=\"https://ipywidgets.readthedocs.io/en/stable/user_install.html\">Jupyter\n",
       "  Widgets Documentation</a> for setup instructions.\n",
       "</p>\n",
       "<p>\n",
       "  If you're reading this message in another notebook frontend (for example, a static\n",
       "  rendering on GitHub or <a href=\"https://nbviewer.jupyter.org/\">NBViewer</a>),\n",
       "  it may mean that your frontend doesn't currently support widgets.\n",
       "</p>\n"
      ],
      "text/plain": [
       "HBox(children=(IntProgress(value=0, description='Epoch', max=10), HTML(value='')))"
      ]
     },
     "metadata": {},
     "output_type": "display_data"
    },
    {
     "name": "stdout",
     "output_type": "stream",
     "text": [
      "\n",
      "Configurations\n",
      "{'batch_size': 100,\n",
      " 'dataset': 'mnist',\n",
      " 'epochs': 10,\n",
      " 'lr': 0.01,\n",
      " 'optimizer': <class '__main__.CustomAdam'>,\n",
      " 'seed': 1,\n",
      " 'test_batch_size': 1000}\n"
     ]
    },
    {
     "data": {
      "application/vnd.jupyter.widget-view+json": {
       "model_id": "6f163af0e8ff45dd87231a96ba221b3b",
       "version_major": 2,
       "version_minor": 0
      },
      "text/html": [
       "<p>Failed to display Jupyter Widget of type <code>HBox</code>.</p>\n",
       "<p>\n",
       "  If you're reading this message in Jupyter Notebook or JupyterLab, it may mean\n",
       "  that the widgets JavaScript is still loading. If this message persists, it\n",
       "  likely means that the widgets JavaScript library is either not installed or\n",
       "  not enabled. See the <a href=\"https://ipywidgets.readthedocs.io/en/stable/user_install.html\">Jupyter\n",
       "  Widgets Documentation</a> for setup instructions.\n",
       "</p>\n",
       "<p>\n",
       "  If you're reading this message in another notebook frontend (for example, a static\n",
       "  rendering on GitHub or <a href=\"https://nbviewer.jupyter.org/\">NBViewer</a>),\n",
       "  it may mean that your frontend doesn't currently support widgets.\n",
       "</p>\n"
      ],
      "text/plain": [
       "HBox(children=(IntProgress(value=0, description='Epoch', max=10), HTML(value='')))"
      ]
     },
     "metadata": {},
     "output_type": "display_data"
    },
    {
     "name": "stdout",
     "output_type": "stream",
     "text": [
      "\n",
      "Configurations\n",
      "{'batch_size': 100,\n",
      " 'dataset': 'cifar10',\n",
      " 'epochs': 10,\n",
      " 'lr': 0.01,\n",
      " 'optimizer': <class 'torch.optim.sgd.SGD'>,\n",
      " 'seed': 1,\n",
      " 'test_batch_size': 1000}\n",
      "Files already downloaded and verified\n"
     ]
    },
    {
     "data": {
      "application/vnd.jupyter.widget-view+json": {
       "model_id": "6d9c67c82ba34e4c92c17920477d6736",
       "version_major": 2,
       "version_minor": 0
      },
      "text/html": [
       "<p>Failed to display Jupyter Widget of type <code>HBox</code>.</p>\n",
       "<p>\n",
       "  If you're reading this message in Jupyter Notebook or JupyterLab, it may mean\n",
       "  that the widgets JavaScript is still loading. If this message persists, it\n",
       "  likely means that the widgets JavaScript library is either not installed or\n",
       "  not enabled. See the <a href=\"https://ipywidgets.readthedocs.io/en/stable/user_install.html\">Jupyter\n",
       "  Widgets Documentation</a> for setup instructions.\n",
       "</p>\n",
       "<p>\n",
       "  If you're reading this message in another notebook frontend (for example, a static\n",
       "  rendering on GitHub or <a href=\"https://nbviewer.jupyter.org/\">NBViewer</a>),\n",
       "  it may mean that your frontend doesn't currently support widgets.\n",
       "</p>\n"
      ],
      "text/plain": [
       "HBox(children=(IntProgress(value=0, description='Epoch', max=10), HTML(value='')))"
      ]
     },
     "metadata": {},
     "output_type": "display_data"
    },
    {
     "name": "stdout",
     "output_type": "stream",
     "text": [
      "\n",
      "Configurations\n",
      "{'batch_size': 100,\n",
      " 'dataset': 'cifar10',\n",
      " 'epochs': 10,\n",
      " 'lr': 0.01,\n",
      " 'optimizer': functools.partial(<class 'torch.optim.sgd.SGD'>, momentum=0.5),\n",
      " 'seed': 1,\n",
      " 'test_batch_size': 1000}\n",
      "Files already downloaded and verified\n"
     ]
    },
    {
     "data": {
      "application/vnd.jupyter.widget-view+json": {
       "model_id": "6cfad0c58f444839ae871dbfa35c51b9",
       "version_major": 2,
       "version_minor": 0
      },
      "text/html": [
       "<p>Failed to display Jupyter Widget of type <code>HBox</code>.</p>\n",
       "<p>\n",
       "  If you're reading this message in Jupyter Notebook or JupyterLab, it may mean\n",
       "  that the widgets JavaScript is still loading. If this message persists, it\n",
       "  likely means that the widgets JavaScript library is either not installed or\n",
       "  not enabled. See the <a href=\"https://ipywidgets.readthedocs.io/en/stable/user_install.html\">Jupyter\n",
       "  Widgets Documentation</a> for setup instructions.\n",
       "</p>\n",
       "<p>\n",
       "  If you're reading this message in another notebook frontend (for example, a static\n",
       "  rendering on GitHub or <a href=\"https://nbviewer.jupyter.org/\">NBViewer</a>),\n",
       "  it may mean that your frontend doesn't currently support widgets.\n",
       "</p>\n"
      ],
      "text/plain": [
       "HBox(children=(IntProgress(value=0, description='Epoch', max=10), HTML(value='')))"
      ]
     },
     "metadata": {},
     "output_type": "display_data"
    },
    {
     "name": "stdout",
     "output_type": "stream",
     "text": [
      "\n",
      "Configurations\n",
      "{'batch_size': 100,\n",
      " 'dataset': 'cifar10',\n",
      " 'epochs': 10,\n",
      " 'lr': 0.01,\n",
      " 'optimizer': <class 'torch.optim.adam.Adam'>,\n",
      " 'seed': 1,\n",
      " 'test_batch_size': 1000}\n",
      "Files already downloaded and verified\n"
     ]
    },
    {
     "data": {
      "application/vnd.jupyter.widget-view+json": {
       "model_id": "348c561dc7df47af89a1894ccf0dbf8f",
       "version_major": 2,
       "version_minor": 0
      },
      "text/html": [
       "<p>Failed to display Jupyter Widget of type <code>HBox</code>.</p>\n",
       "<p>\n",
       "  If you're reading this message in Jupyter Notebook or JupyterLab, it may mean\n",
       "  that the widgets JavaScript is still loading. If this message persists, it\n",
       "  likely means that the widgets JavaScript library is either not installed or\n",
       "  not enabled. See the <a href=\"https://ipywidgets.readthedocs.io/en/stable/user_install.html\">Jupyter\n",
       "  Widgets Documentation</a> for setup instructions.\n",
       "</p>\n",
       "<p>\n",
       "  If you're reading this message in another notebook frontend (for example, a static\n",
       "  rendering on GitHub or <a href=\"https://nbviewer.jupyter.org/\">NBViewer</a>),\n",
       "  it may mean that your frontend doesn't currently support widgets.\n",
       "</p>\n"
      ],
      "text/plain": [
       "HBox(children=(IntProgress(value=0, description='Epoch', max=10), HTML(value='')))"
      ]
     },
     "metadata": {},
     "output_type": "display_data"
    },
    {
     "name": "stdout",
     "output_type": "stream",
     "text": [
      "\n",
      "Configurations\n",
      "{'batch_size': 100,\n",
      " 'dataset': 'cifar10',\n",
      " 'epochs': 10,\n",
      " 'lr': 0.01,\n",
      " 'optimizer': <class '__main__.CustomSGD'>,\n",
      " 'seed': 1,\n",
      " 'test_batch_size': 1000}\n",
      "Files already downloaded and verified\n"
     ]
    },
    {
     "data": {
      "application/vnd.jupyter.widget-view+json": {
       "model_id": "3cdda3c59ddb4693b047bf8d92ab0577",
       "version_major": 2,
       "version_minor": 0
      },
      "text/html": [
       "<p>Failed to display Jupyter Widget of type <code>HBox</code>.</p>\n",
       "<p>\n",
       "  If you're reading this message in Jupyter Notebook or JupyterLab, it may mean\n",
       "  that the widgets JavaScript is still loading. If this message persists, it\n",
       "  likely means that the widgets JavaScript library is either not installed or\n",
       "  not enabled. See the <a href=\"https://ipywidgets.readthedocs.io/en/stable/user_install.html\">Jupyter\n",
       "  Widgets Documentation</a> for setup instructions.\n",
       "</p>\n",
       "<p>\n",
       "  If you're reading this message in another notebook frontend (for example, a static\n",
       "  rendering on GitHub or <a href=\"https://nbviewer.jupyter.org/\">NBViewer</a>),\n",
       "  it may mean that your frontend doesn't currently support widgets.\n",
       "</p>\n"
      ],
      "text/plain": [
       "HBox(children=(IntProgress(value=0, description='Epoch', max=10), HTML(value='')))"
      ]
     },
     "metadata": {},
     "output_type": "display_data"
    },
    {
     "name": "stdout",
     "output_type": "stream",
     "text": [
      "\n",
      "Configurations\n",
      "{'batch_size': 100,\n",
      " 'dataset': 'cifar10',\n",
      " 'epochs': 10,\n",
      " 'lr': 0.01,\n",
      " 'optimizer': <class '__main__.CustomMomentum'>,\n",
      " 'seed': 1,\n",
      " 'test_batch_size': 1000}\n",
      "Files already downloaded and verified\n"
     ]
    },
    {
     "data": {
      "application/vnd.jupyter.widget-view+json": {
       "model_id": "9a53cf62cd6946b1a61bc2b78688dfa6",
       "version_major": 2,
       "version_minor": 0
      },
      "text/html": [
       "<p>Failed to display Jupyter Widget of type <code>HBox</code>.</p>\n",
       "<p>\n",
       "  If you're reading this message in Jupyter Notebook or JupyterLab, it may mean\n",
       "  that the widgets JavaScript is still loading. If this message persists, it\n",
       "  likely means that the widgets JavaScript library is either not installed or\n",
       "  not enabled. See the <a href=\"https://ipywidgets.readthedocs.io/en/stable/user_install.html\">Jupyter\n",
       "  Widgets Documentation</a> for setup instructions.\n",
       "</p>\n",
       "<p>\n",
       "  If you're reading this message in another notebook frontend (for example, a static\n",
       "  rendering on GitHub or <a href=\"https://nbviewer.jupyter.org/\">NBViewer</a>),\n",
       "  it may mean that your frontend doesn't currently support widgets.\n",
       "</p>\n"
      ],
      "text/plain": [
       "HBox(children=(IntProgress(value=0, description='Epoch', max=10), HTML(value='')))"
      ]
     },
     "metadata": {},
     "output_type": "display_data"
    },
    {
     "name": "stdout",
     "output_type": "stream",
     "text": [
      "\n",
      "Configurations\n",
      "{'batch_size': 100,\n",
      " 'dataset': 'cifar10',\n",
      " 'epochs': 10,\n",
      " 'lr': 0.01,\n",
      " 'optimizer': <class '__main__.CustomAdam'>,\n",
      " 'seed': 1,\n",
      " 'test_batch_size': 1000}\n",
      "Files already downloaded and verified\n"
     ]
    },
    {
     "data": {
      "application/vnd.jupyter.widget-view+json": {
       "model_id": "9eac17c2a07b44fd84e76acebe328372",
       "version_major": 2,
       "version_minor": 0
      },
      "text/html": [
       "<p>Failed to display Jupyter Widget of type <code>HBox</code>.</p>\n",
       "<p>\n",
       "  If you're reading this message in Jupyter Notebook or JupyterLab, it may mean\n",
       "  that the widgets JavaScript is still loading. If this message persists, it\n",
       "  likely means that the widgets JavaScript library is either not installed or\n",
       "  not enabled. See the <a href=\"https://ipywidgets.readthedocs.io/en/stable/user_install.html\">Jupyter\n",
       "  Widgets Documentation</a> for setup instructions.\n",
       "</p>\n",
       "<p>\n",
       "  If you're reading this message in another notebook frontend (for example, a static\n",
       "  rendering on GitHub or <a href=\"https://nbviewer.jupyter.org/\">NBViewer</a>),\n",
       "  it may mean that your frontend doesn't currently support widgets.\n",
       "</p>\n"
      ],
      "text/plain": [
       "HBox(children=(IntProgress(value=0, description='Epoch', max=10), HTML(value='')))"
      ]
     },
     "metadata": {},
     "output_type": "display_data"
    },
    {
     "name": "stdout",
     "output_type": "stream",
     "text": [
      "\n"
     ]
    }
   ],
   "source": [
    "for dataset in ['mnist', 'cifar10']:\n",
    "    main(dataset)"
   ]
  }
 ],
 "metadata": {
  "kernelspec": {
   "display_name": "Python [conda env:mldemo]",
   "language": "python",
   "name": "conda-env-mldemo-py"
  },
  "language_info": {
   "codemirror_mode": {
    "name": "ipython",
    "version": 3
   },
   "file_extension": ".py",
   "mimetype": "text/x-python",
   "name": "python",
   "nbconvert_exporter": "python",
   "pygments_lexer": "ipython3",
   "version": "3.6.3"
  }
 },
 "nbformat": 4,
 "nbformat_minor": 2
}
