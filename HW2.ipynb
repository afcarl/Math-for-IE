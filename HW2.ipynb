{
 "cells": [
  {
   "cell_type": "markdown",
   "metadata": {},
   "source": [
    "# Homework 2\n",
    "\n",
    "2011-11989 산업공학과 조재민"
   ]
  },
  {
   "cell_type": "code",
   "execution_count": 273,
   "metadata": {
    "ExecuteTime": {
     "end_time": "2017-10-18T14:59:30.790766Z",
     "start_time": "2017-10-18T14:59:30.739457Z"
    }
   },
   "outputs": [],
   "source": [
    "%matplotlib inline\n",
    "import numpy as np\n",
    "import sympy\n",
    "import scipy\n",
    "from scipy.ndimage import imread\n",
    "import matplotlib.pyplot as plt"
   ]
  },
  {
   "cell_type": "markdown",
   "metadata": {},
   "source": [
    "# 1.(30pts) Write a code for Algorithm 1.2, 1.3, 1.5 in python and test your code."
   ]
  },
  {
   "cell_type": "markdown",
   "metadata": {
    "ExecuteTime": {
     "end_time": "2017-10-09T11:33:54.160261Z",
     "start_time": "2017-10-09T11:33:54.145614Z"
    }
   },
   "source": [
    "## 1.2. Gaussian Elimination with Pivoting"
   ]
  },
  {
   "cell_type": "code",
   "execution_count": 274,
   "metadata": {
    "ExecuteTime": {
     "end_time": "2017-10-18T14:59:33.163549Z",
     "start_time": "2017-10-18T14:59:33.066579Z"
    }
   },
   "outputs": [
    {
     "name": "stdout",
     "output_type": "stream",
     "text": [
      "PA = LU\n",
      "[[ 1.  0.  0.  0.  0.]\n",
      " [ 0.  1.  0.  0.  0.]\n",
      " [ 0.  0.  1.  0.  0.]\n",
      " [ 0.  0.  0.  1.  0.]\n",
      " [ 0.  0.  0.  0.  1.]]\n",
      "[[ 1  0  0  0  1]\n",
      " [-1  1  0  0  2]\n",
      " [-1 -1  1  0  4]\n",
      " [-1 -1 -1  1  8]\n",
      " [-1 -1 -1 -1 16]]\n",
      "=\n",
      "[[ 1.  0.  0.  0.  0.]\n",
      " [-1.  1.  0.  0.  0.]\n",
      " [-1. -1.  1.  0.  0.]\n",
      " [-1. -1. -1.  1.  0.]\n",
      " [-1. -1. -1. -1.  1.]]\n",
      "[[ 1  0  0  0  1]\n",
      " [ 0  1  0  0  2]\n",
      " [ 0  0  1  0  4]\n",
      " [ 0  0  0  1  8]\n",
      " [ 0  0  0  0 16]]\n"
     ]
    }
   ],
   "source": [
    "def gaussian_elimination_with_pivoting(A):\n",
    "    m, n = A.shape\n",
    "    P = np.eye(m, m)\n",
    "    for k in range(m-1):\n",
    "        r = np.argmax(np.abs(A[k:, k])) # maximum row index\n",
    "        q = r+k\n",
    "        P[[k, q]] = P[[q, k]]\n",
    "        A[[k, q]] = A[[q, k]]\n",
    "        if not A[k, k] == 0:\n",
    "            A[k+1:, k] = A[k+1:, k] / A[k, k]\n",
    "            A[k+1:, k+1:] = A[k+1:, k+1:] - A[k+1:, k] * A[k, k+1:]\n",
    "    L = np.eye(m, m) + np.tril(A, -1)\n",
    "    U = np.triu(A)\n",
    "    return L, U, P    \n",
    "\n",
    "A = np.array([\n",
    "    [ 1,  0,  0,  0,  1],\n",
    "    [-1,  1,  0,  0,  1],\n",
    "    [-1, -1,  1,  0,  1],\n",
    "    [-1, -1, -1,  1,  1],\n",
    "    [-1, -1, -1, -1, 1]])\n",
    "L, U, P = gaussian_elimination_with_pivoting(A)\n",
    "print(f'PA = LU')\n",
    "print(f'{P}\\n{A}\\n=\\n{L}\\n{U}')"
   ]
  },
  {
   "cell_type": "markdown",
   "metadata": {},
   "source": [
    "## 1.3. Solve $Ax = b$ by using $A = LU$."
   ]
  },
  {
   "cell_type": "code",
   "execution_count": null,
   "metadata": {
    "ExecuteTime": {
     "end_time": "2017-10-09T14:11:40.478413Z",
     "start_time": "2017-10-09T14:11:40.436934Z"
    },
    "collapsed": true
   },
   "outputs": [],
   "source": [
    "def plusol(A, b):\n",
    "    L, U, P = gaussian_elimination_with_pivoting(A)\n",
    "    m, n = A.shape\n",
    "    \n",
    "    # Forward Elimination to solve Ly = Pb = c\n",
    "    y = np.zeros([m])\n",
    "    c = P @ b\n",
    "    for j in range(m):\n",
    "        y[j] = c[j] - L[j, :j-1] @ y[:j-1]\n",
    "        \n",
    "    # Back substitution to solve Ux = y\n",
    "    x = np.zeros([n])\n",
    "    for j in reversed(range(n)):\n",
    "        if j == n-1:\n",
    "            x[j] = y[j] / U[j,j]\n",
    "        else:\n",
    "            x[j] = (y[j] - U[j, j+1:]@x[j+1:]) / U[j,j]\n",
    "    \n",
    "    return x"
   ]
  },
  {
   "cell_type": "code",
   "execution_count": null,
   "metadata": {
    "ExecuteTime": {
     "end_time": "2017-10-09T14:14:16.251241Z",
     "start_time": "2017-10-09T14:14:16.230448Z"
    },
    "scrolled": true
   },
   "outputs": [],
   "source": [
    "A = np.array([\n",
    "    [1,  1,  2],\n",
    "    [0, -7, -7],\n",
    "    [0,  0,  1]])\n",
    "b=np.array(\n",
    "    [5, -21, 1])\n",
    "plusol(A, b)"
   ]
  },
  {
   "cell_type": "markdown",
   "metadata": {},
   "source": [
    "## 1.5. Cholesky factorization."
   ]
  },
  {
   "cell_type": "code",
   "execution_count": null,
   "metadata": {
    "ExecuteTime": {
     "end_time": "2017-10-18T14:58:58.246013Z",
     "start_time": "2017-10-18T14:58:58.185216Z"
    },
    "collapsed": true
   },
   "outputs": [],
   "source": [
    "def cholesky(A):\n",
    "    m, n = A.shape\n",
    "    for k in range(m):\n",
    "        assert A[k, k] >= 0, \"Matrix should be PD\"\n",
    "        A[k,k] = np.sqrt(A[k,k])\n",
    "        A[k+1:, k] = A[k+1:m, k] / A[k,k]\n",
    "        for j in range(k+1, m+1):\n",
    "            A[j:, j] = A[j:, j] - A[j:, k] @ A[j, k]\n",
    "        A[k, k+1:] = np.zeros([m-k])\n",
    "    R = A.transpose()\n",
    "    return R"
   ]
  },
  {
   "cell_type": "markdown",
   "metadata": {},
   "source": [
    "# 2. (30pts) Write a code for Algorithm 2.1, Example 2.3 and 2.5 in python and test your code."
   ]
  },
  {
   "cell_type": "markdown",
   "metadata": {},
   "source": [
    "## 2.1. Particular solution of $Ax=b$"
   ]
  },
  {
   "cell_type": "code",
   "execution_count": null,
   "metadata": {
    "ExecuteTime": {
     "end_time": "2017-10-18T14:10:23.778405Z",
     "start_time": "2017-10-18T14:10:23.718197Z"
    },
    "collapsed": true
   },
   "outputs": [],
   "source": [
    "def partic_sol(A, b):\n",
    "    m, n = A.shape\n",
    "    R, pivcol = sympy.Matrix(np.append(A, b.reshape(m,1), axis=1)).rref()\n",
    "    R = np.array(R.tolist()).astype(np.float32)\n",
    "    pivcol = np.array(pivcol)\n",
    "    r = len(pivcol)\n",
    "    if max(pivcol) == n:\n",
    "        x = np.array([])\n",
    "    else:\n",
    "        x = np.zeros([n])\n",
    "        d = R[:, n]\n",
    "        x[pivcol] = d[:r]\n",
    "    return x"
   ]
  },
  {
   "cell_type": "code",
   "execution_count": null,
   "metadata": {
    "ExecuteTime": {
     "end_time": "2017-10-18T14:10:24.403928Z",
     "start_time": "2017-10-18T14:10:24.342988Z"
    }
   },
   "outputs": [],
   "source": [
    "A = np.array([[1, 1, 2, -1],\n",
    "              [4, 3, 6, -5],\n",
    "              [-1, -2, -4, 0]])\n",
    "b = np.array([-1, -4, 1])\n",
    "partic_sol(A ,b)"
   ]
  },
  {
   "cell_type": "markdown",
   "metadata": {
    "ExecuteTime": {
     "end_time": "2017-10-18T13:00:14.056141Z",
     "start_time": "2017-10-18T13:00:14.025341Z"
    }
   },
   "source": [
    "## Example 2.3."
   ]
  },
  {
   "cell_type": "code",
   "execution_count": null,
   "metadata": {
    "ExecuteTime": {
     "end_time": "2017-10-18T14:10:27.817000Z",
     "start_time": "2017-10-18T14:10:27.759626Z"
    },
    "collapsed": true
   },
   "outputs": [],
   "source": [
    "def colbasis(A):\n",
    "    \"\"\"Basis for the column space\"\"\"\n",
    "    R, pivcol = sympy.Matrix(A).rref()\n",
    "    R = np.array(R.tolist()).astype(np.float32)\n",
    "    pivcol = np.array(pivcol)\n",
    "    C = A[:, pivcol]\n",
    "    return C"
   ]
  },
  {
   "cell_type": "code",
   "execution_count": null,
   "metadata": {
    "ExecuteTime": {
     "end_time": "2017-10-18T14:10:28.068007Z",
     "start_time": "2017-10-18T14:10:28.012587Z"
    }
   },
   "outputs": [],
   "source": [
    "colbasis(A)"
   ]
  },
  {
   "cell_type": "code",
   "execution_count": null,
   "metadata": {
    "ExecuteTime": {
     "end_time": "2017-10-18T14:10:28.359300Z",
     "start_time": "2017-10-18T14:10:28.303869Z"
    },
    "collapsed": true
   },
   "outputs": [],
   "source": [
    "def rowbasis(A):\n",
    "    \"\"\"Basis for the row space\"\"\"\n",
    "    R, pivcol = sympy.Matrix(A).rref()\n",
    "    R = np.array(R.tolist()).astype(np.float32)\n",
    "    pivcol = np.array(pivcol)\n",
    "    r = len(pivcol)\n",
    "    B = R[:r, :].transpose()\n",
    "    return B"
   ]
  },
  {
   "cell_type": "code",
   "execution_count": null,
   "metadata": {
    "ExecuteTime": {
     "end_time": "2017-10-18T14:10:28.645255Z",
     "start_time": "2017-10-18T14:10:28.595138Z"
    },
    "scrolled": true
   },
   "outputs": [],
   "source": [
    "rowbasis(A)"
   ]
  },
  {
   "cell_type": "code",
   "execution_count": null,
   "metadata": {
    "ExecuteTime": {
     "end_time": "2017-10-18T14:10:28.908467Z",
     "start_time": "2017-10-18T14:10:28.865294Z"
    },
    "scrolled": true
   },
   "outputs": [],
   "source": [
    "colbasis(A.transpose())"
   ]
  },
  {
   "cell_type": "code",
   "execution_count": null,
   "metadata": {
    "ExecuteTime": {
     "end_time": "2017-10-18T14:10:29.239911Z",
     "start_time": "2017-10-18T14:10:29.172352Z"
    },
    "collapsed": true
   },
   "outputs": [],
   "source": [
    "def nullbasis(A):\n",
    "    \"\"\"Basis for the row space\"\"\"\n",
    "    R, pivcol = sympy.Matrix(A).rref()\n",
    "    R = np.array(R.tolist()).astype(np.float32)\n",
    "    pivcol = np.array(pivcol)\n",
    "    m, n = A.shape\n",
    "    r = len(pivcol)\n",
    "    freecol = np.arange(n)\n",
    "    freecol = np.delete(freecol, pivcol)\n",
    "    N = np.zeros([n, n-r])\n",
    "    N[freecol, :] = np.eye(n-r)\n",
    "    N[pivcol, :] = -R[:r, freecol]\n",
    "    return N"
   ]
  },
  {
   "cell_type": "code",
   "execution_count": null,
   "metadata": {
    "ExecuteTime": {
     "end_time": "2017-10-18T14:10:29.548997Z",
     "start_time": "2017-10-18T14:10:29.489794Z"
    }
   },
   "outputs": [],
   "source": [
    "nullbasis(A)"
   ]
  },
  {
   "cell_type": "code",
   "execution_count": null,
   "metadata": {
    "ExecuteTime": {
     "end_time": "2017-10-18T14:10:29.819462Z",
     "start_time": "2017-10-18T14:10:29.768471Z"
    },
    "scrolled": false
   },
   "outputs": [],
   "source": [
    "A@nullbasis(A)"
   ]
  },
  {
   "cell_type": "code",
   "execution_count": null,
   "metadata": {
    "ExecuteTime": {
     "end_time": "2017-10-18T14:10:30.161357Z",
     "start_time": "2017-10-18T14:10:30.090476Z"
    },
    "collapsed": true
   },
   "outputs": [],
   "source": [
    "def leftnull(A):\n",
    "    m, n = A.shape\n",
    "    I = np.eye(m)\n",
    "    RE, pivcol = sympy.Matrix(np.append(A, I, axis=1)).rref()\n",
    "    RE = np.array(RE.tolist()).astype(np.float32)\n",
    "    pivcol = np.array(pivcol)\n",
    "    r = np.sum(pivcol+1 <= n)\n",
    "    E = RE[:, n:m+n+1]\n",
    "    LN = E[r:m+1, :].transpose()\n",
    "    return LN"
   ]
  },
  {
   "cell_type": "code",
   "execution_count": null,
   "metadata": {
    "ExecuteTime": {
     "end_time": "2017-10-18T14:10:30.525852Z",
     "start_time": "2017-10-18T14:10:30.472513Z"
    }
   },
   "outputs": [],
   "source": [
    "leftnull(A)"
   ]
  },
  {
   "cell_type": "code",
   "execution_count": null,
   "metadata": {
    "ExecuteTime": {
     "end_time": "2017-10-18T14:10:30.933293Z",
     "start_time": "2017-10-18T14:10:30.872630Z"
    }
   },
   "outputs": [],
   "source": [
    "A.transpose()@leftnull(A)"
   ]
  },
  {
   "cell_type": "markdown",
   "metadata": {
    "ExecuteTime": {
     "end_time": "2017-10-18T13:00:14.056141Z",
     "start_time": "2017-10-18T13:00:14.025341Z"
    }
   },
   "source": [
    "## Example 2.5."
   ]
  },
  {
   "cell_type": "code",
   "execution_count": null,
   "metadata": {
    "ExecuteTime": {
     "end_time": "2017-10-18T14:26:54.959048Z",
     "start_time": "2017-10-18T14:26:54.908591Z"
    },
    "collapsed": true
   },
   "outputs": [],
   "source": [
    "A = np.array([[1, 1, 2, -1],\n",
    "              [4, 3, 6, -5],\n",
    "              [-1, -2, -4, 0]])\n",
    "b = np.array([-1, -4, 1])"
   ]
  },
  {
   "cell_type": "code",
   "execution_count": null,
   "metadata": {
    "ExecuteTime": {
     "end_time": "2017-10-18T14:10:32.778358Z",
     "start_time": "2017-10-18T14:10:32.732795Z"
    }
   },
   "outputs": [],
   "source": [
    "P, L, U = scipy.linalg.lu(A)"
   ]
  },
  {
   "cell_type": "code",
   "execution_count": null,
   "metadata": {
    "ExecuteTime": {
     "end_time": "2017-10-18T14:10:32.917202Z",
     "start_time": "2017-10-18T14:10:32.869423Z"
    }
   },
   "outputs": [],
   "source": [
    "L"
   ]
  },
  {
   "cell_type": "code",
   "execution_count": null,
   "metadata": {
    "ExecuteTime": {
     "end_time": "2017-10-18T14:10:33.076802Z",
     "start_time": "2017-10-18T14:10:33.026383Z"
    }
   },
   "outputs": [],
   "source": [
    "U"
   ]
  },
  {
   "cell_type": "code",
   "execution_count": null,
   "metadata": {
    "ExecuteTime": {
     "end_time": "2017-10-18T14:10:33.221358Z",
     "start_time": "2017-10-18T14:10:33.169105Z"
    }
   },
   "outputs": [],
   "source": [
    "P"
   ]
  },
  {
   "cell_type": "code",
   "execution_count": null,
   "metadata": {
    "ExecuteTime": {
     "end_time": "2017-10-18T14:10:33.382790Z",
     "start_time": "2017-10-18T14:10:33.309453Z"
    },
    "scrolled": true
   },
   "outputs": [],
   "source": [
    "x1 = partic_sol(A, b)\n",
    "x1"
   ]
  },
  {
   "cell_type": "markdown",
   "metadata": {},
   "source": [
    "# 3. (30pts) Write Algorithm 3.1, 3.2, 3.3 in python and test your code."
   ]
  },
  {
   "cell_type": "markdown",
   "metadata": {},
   "source": [
    "## 3.1. Classical Gram-Schmidt orthogonalization."
   ]
  },
  {
   "cell_type": "code",
   "execution_count": null,
   "metadata": {
    "ExecuteTime": {
     "end_time": "2017-10-18T14:34:43.776883Z",
     "start_time": "2017-10-18T14:34:43.729886Z"
    },
    "collapsed": true
   },
   "outputs": [],
   "source": [
    "A = np.array([[1, 1, 2, -1],\n",
    "              [4, 3, 6, -5],\n",
    "              [-1, -2, -4, 0]])\n",
    "b = np.array([-1, -4, 1])"
   ]
  },
  {
   "cell_type": "code",
   "execution_count": null,
   "metadata": {
    "ExecuteTime": {
     "end_time": "2017-10-18T14:36:12.829623Z",
     "start_time": "2017-10-18T14:36:12.767096Z"
    },
    "collapsed": true
   },
   "outputs": [],
   "source": [
    "def clgs(A):\n",
    "    m, n = A.shape\n",
    "    V = A\n",
    "    Q = np.eye(m,n)\n",
    "    R = np.zeros([n, n])\n",
    "    for j in range(n):\n",
    "        for i in range(j-1):\n",
    "            R[i, j] = np.dot(Q[:, i].transpose(), A[:,j])\n",
    "            print(R)\n",
    "            V[:, j] = V[:, j] - R[i, j] * Q[:, i]\n",
    "        R[j, j] = np.linalg.norm(V[:, j])\n",
    "        Q[:, j] = V[:, j] // R[j, j]\n",
    "        print(Q)\n",
    "    return Q, R"
   ]
  },
  {
   "cell_type": "code",
   "execution_count": null,
   "metadata": {
    "ExecuteTime": {
     "end_time": "2017-10-18T14:36:13.703272Z",
     "start_time": "2017-10-18T14:36:13.650763Z"
    }
   },
   "outputs": [],
   "source": [
    "Q, R = clgs(A)"
   ]
  },
  {
   "cell_type": "code",
   "execution_count": null,
   "metadata": {
    "ExecuteTime": {
     "end_time": "2017-10-18T14:29:38.092376Z",
     "start_time": "2017-10-18T14:29:38.049667Z"
    }
   },
   "outputs": [],
   "source": [
    "Q"
   ]
  },
  {
   "cell_type": "code",
   "execution_count": null,
   "metadata": {
    "ExecuteTime": {
     "end_time": "2017-10-18T14:29:38.752492Z",
     "start_time": "2017-10-18T14:29:38.708725Z"
    }
   },
   "outputs": [],
   "source": [
    "R"
   ]
  },
  {
   "cell_type": "code",
   "execution_count": null,
   "metadata": {
    "ExecuteTime": {
     "end_time": "2017-10-18T14:34:46.695422Z",
     "start_time": "2017-10-18T14:34:46.644470Z"
    }
   },
   "outputs": [],
   "source": [
    "A"
   ]
  },
  {
   "cell_type": "code",
   "execution_count": null,
   "metadata": {
    "ExecuteTime": {
     "end_time": "2017-10-18T14:29:41.690094Z",
     "start_time": "2017-10-18T14:29:41.638749Z"
    }
   },
   "outputs": [],
   "source": [
    "np.linalg.qr(A)"
   ]
  },
  {
   "cell_type": "markdown",
   "metadata": {
    "ExecuteTime": {
     "end_time": "2017-10-18T13:00:14.056141Z",
     "start_time": "2017-10-18T13:00:14.025341Z"
    }
   },
   "source": [
    "## 3.2. Modified Gram-Schmidt orthogonalization"
   ]
  },
  {
   "cell_type": "code",
   "execution_count": null,
   "metadata": {
    "ExecuteTime": {
     "end_time": "2017-10-18T14:37:04.110884Z",
     "start_time": "2017-10-18T14:37:04.038915Z"
    },
    "collapsed": true
   },
   "outputs": [],
   "source": [
    "def grams(A):\n",
    "    m, n = A.shape\n",
    "    Q = A\n",
    "    R = np.zeros([n, n])\n",
    "    for i in range(n-1):\n",
    "        R[i, i] = np.linalg.norm(Q[:, i])\n",
    "        Q[:, i] = Q[:, i] // R[i, i]\n",
    "        R[i, i+1:] = Q[:, i].transpose() @ Q[:, i+1:]\n",
    "        print(Q[:, i])\n",
    "        print(R[i, i+1:])\n",
    "        Q[:, i+1:] = Q[:, i+1:] - Q[:, i].transpose() @ R[i, i+1:]\n",
    "    R[n, n] = np.linalg.norm(Q[:, n])\n",
    "    Q[:, n] = Q[:, n] // R[n, n]"
   ]
  },
  {
   "cell_type": "code",
   "execution_count": null,
   "metadata": {
    "ExecuteTime": {
     "end_time": "2017-10-18T14:37:05.753806Z",
     "start_time": "2017-10-18T14:37:05.677998Z"
    }
   },
   "outputs": [],
   "source": [
    "grams(A)"
   ]
  },
  {
   "cell_type": "markdown",
   "metadata": {
    "ExecuteTime": {
     "end_time": "2017-10-18T13:00:14.056141Z",
     "start_time": "2017-10-18T13:00:14.025341Z"
    }
   },
   "source": [
    "## 3.3. Householder QR factorization"
   ]
  },
  {
   "cell_type": "code",
   "execution_count": null,
   "metadata": {
    "ExecuteTime": {
     "end_time": "2017-10-18T14:55:52.826260Z",
     "start_time": "2017-10-18T14:55:52.709714Z"
    },
    "collapsed": true
   },
   "outputs": [],
   "source": [
    "def qrhouse(A):\n",
    "    m,n = A.shape\n",
    "    R = A\n",
    "    V = np.zeros([m, n])\n",
    "    for k in range(min(m-1, n)):\n",
    "        x = R[k:m+1, k]\n",
    "        v = x + np.sign(x[0]) * np.linalg.norm(x) * np.eye(len(x))[0]\n",
    "\n",
    "        V[k: m+1, k] = v\n",
    "        R[k:m+1, k:n+1] = R[k:m+1, k:n+1] - (2*v) @ (v.transpose() @ R[k:m+1, k:n+1]) // np.dot(v, v)\n",
    "    R = np.triu(R[:n, :n])\n",
    "    return V, R\n",
    "    \n",
    "def formQ(V):\n",
    "    m, n = V.shape\n",
    "    Q = np.eye(m)\n",
    "    \n",
    "    _range = list(range(1, min(m-1, n), 1)).reverse()\n",
    "    for j in _range:\n",
    "        v = V[:, j]\n",
    "        Q = Q- (2*v) @ (v.transpose() @ Q) // np.dot(v, v)\n",
    "    return Q"
   ]
  },
  {
   "cell_type": "code",
   "execution_count": null,
   "metadata": {
    "ExecuteTime": {
     "end_time": "2017-10-18T14:55:53.148002Z",
     "start_time": "2017-10-18T14:55:53.062672Z"
    }
   },
   "outputs": [],
   "source": [
    "V, R = qrhouse(A)\n",
    "Q = formQ(V)"
   ]
  },
  {
   "cell_type": "markdown",
   "metadata": {},
   "source": [
    "# 4. (10pts) Write a code for Figure 5.3 in python and test your code."
   ]
  },
  {
   "cell_type": "markdown",
   "metadata": {
    "collapsed": true
   },
   "source": [
    "## Image processing"
   ]
  },
  {
   "cell_type": "code",
   "execution_count": null,
   "metadata": {
    "ExecuteTime": {
     "end_time": "2017-10-18T12:58:08.368156Z",
     "start_time": "2017-10-18T12:58:08.327125Z"
    }
   },
   "outputs": [],
   "source": [
    "A = imread('./clown.jpg', 'LA')\n",
    "m, n = A.shape\n",
    "A.shape"
   ]
  },
  {
   "cell_type": "code",
   "execution_count": null,
   "metadata": {
    "ExecuteTime": {
     "end_time": "2017-10-18T12:58:15.858533Z",
     "start_time": "2017-10-18T12:58:15.506333Z"
    },
    "scrolled": true
   },
   "outputs": [],
   "source": [
    "plt.title('original')\n",
    "plt.imshow(A, cmap='gray')"
   ]
  },
  {
   "cell_type": "code",
   "execution_count": null,
   "metadata": {
    "ExecuteTime": {
     "end_time": "2017-10-18T12:58:16.651710Z",
     "start_time": "2017-10-18T12:58:16.589695Z"
    }
   },
   "outputs": [],
   "source": [
    "U, S, V = np.linalg.svd(A)\n",
    "U.shape, S.shape, V.shape"
   ]
  },
  {
   "cell_type": "code",
   "execution_count": null,
   "metadata": {
    "ExecuteTime": {
     "end_time": "2017-10-18T12:58:17.337856Z",
     "start_time": "2017-10-18T12:58:17.307000Z"
    },
    "collapsed": true
   },
   "outputs": [],
   "source": [
    "B = np.zeros([m, n])"
   ]
  },
  {
   "cell_type": "code",
   "execution_count": null,
   "metadata": {
    "ExecuteTime": {
     "end_time": "2017-10-18T12:58:28.372117Z",
     "start_time": "2017-10-18T12:58:25.792347Z"
    }
   },
   "outputs": [],
   "source": [
    "fig, axes = plt.subplots(ncols=(m//20)+1)\n",
    "fig.set_size_inches(w=30, h=20)\n",
    "axes = iter(axes)\n",
    "for i in range(m):\n",
    "    B = B + S[i] * U[:, i].reshape(m,1) @ V[i, :].reshape(1,n)\n",
    "    if (i+10) // 20 == 0:\n",
    "        axis = next(axes)\n",
    "        axis.set_title(f'i = {i}')\n",
    "        axis.imshow(B, cmap='gray')"
   ]
  }
 ],
 "metadata": {
  "kernelspec": {
   "display_name": "Python [conda env:mldemo]",
   "language": "python",
   "name": "conda-env-mldemo-py"
  },
  "language_info": {
   "codemirror_mode": {
    "name": "ipython",
    "version": 3
   },
   "file_extension": ".py",
   "mimetype": "text/x-python",
   "name": "python",
   "nbconvert_exporter": "python",
   "pygments_lexer": "ipython3",
   "version": "3.6.2"
  },
  "varInspector": {
   "cols": {
    "lenName": 16,
    "lenType": 16,
    "lenVar": 40
   },
   "kernels_config": {
    "python": {
     "delete_cmd_postfix": "",
     "delete_cmd_prefix": "del ",
     "library": "var_list.py",
     "varRefreshCmd": "print(var_dic_list())"
    },
    "r": {
     "delete_cmd_postfix": ") ",
     "delete_cmd_prefix": "rm(",
     "library": "var_list.r",
     "varRefreshCmd": "cat(var_dic_list()) "
    }
   },
   "types_to_exclude": [
    "module",
    "function",
    "builtin_function_or_method",
    "instance",
    "_Feature"
   ],
   "window_display": false
  }
 },
 "nbformat": 4,
 "nbformat_minor": 2
}
